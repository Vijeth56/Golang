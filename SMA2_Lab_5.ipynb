{
  "nbformat": 4,
  "nbformat_minor": 0,
  "metadata": {
    "colab": {
      "provenance": []
    },
    "kernelspec": {
      "name": "python3",
      "display_name": "Python 3"
    },
    "language_info": {
      "name": "python"
    }
  },
  "cells": [
    {
      "cell_type": "code",
      "source": [
        "pip install stackapi"
      ],
      "metadata": {
        "colab": {
          "base_uri": "https://localhost:8080/"
        },
        "id": "IXE0e9u_5HX_",
        "outputId": "02252908-4c30-4064-f69c-ef511f856d54"
      },
      "execution_count": 6,
      "outputs": [
        {
          "output_type": "stream",
          "name": "stdout",
          "text": [
            "Looking in indexes: https://pypi.org/simple, https://us-python.pkg.dev/colab-wheels/public/simple/\n",
            "Collecting stackapi\n",
            "  Downloading StackAPI-0.2.0.tar.gz (5.6 kB)\n",
            "  Preparing metadata (setup.py) ... \u001b[?25l\u001b[?25hdone\n",
            "Requirement already satisfied: requests in /usr/local/lib/python3.10/dist-packages (from stackapi) (2.27.1)\n",
            "Requirement already satisfied: six in /usr/local/lib/python3.10/dist-packages (from stackapi) (1.16.0)\n",
            "Requirement already satisfied: urllib3<1.27,>=1.21.1 in /usr/local/lib/python3.10/dist-packages (from requests->stackapi) (1.26.15)\n",
            "Requirement already satisfied: certifi>=2017.4.17 in /usr/local/lib/python3.10/dist-packages (from requests->stackapi) (2022.12.7)\n",
            "Requirement already satisfied: charset-normalizer~=2.0.0 in /usr/local/lib/python3.10/dist-packages (from requests->stackapi) (2.0.12)\n",
            "Requirement already satisfied: idna<4,>=2.5 in /usr/local/lib/python3.10/dist-packages (from requests->stackapi) (3.4)\n",
            "Building wheels for collected packages: stackapi\n",
            "  Building wheel for stackapi (setup.py) ... \u001b[?25l\u001b[?25hdone\n",
            "  Created wheel for stackapi: filename=StackAPI-0.2.0-py3-none-any.whl size=5843 sha256=866bfd7e160328cc00436475a22bfc2712d03dacaf7471aad19712b0ca7c56fc\n",
            "  Stored in directory: /root/.cache/pip/wheels/50/c1/65/a9d6cef09afffda023c377a5334dff8ef4f475b851a38f40d7\n",
            "Successfully built stackapi\n",
            "Installing collected packages: stackapi\n",
            "Successfully installed stackapi-0.2.0\n"
          ]
        }
      ]
    },
    {
      "cell_type": "code",
      "source": [
        "from stackapi import StackAPI\n",
        "\n",
        "def search_stackoverflow(error_message):\n",
        "    SITE = StackAPI('stackoverflow')\n",
        "    questions = SITE.fetch('search', intitle=error_message, sort='votes')\n",
        "\n",
        "    return questions['items']\n",
        "\n",
        "# Example usage:\n",
        "error_message = \"NameError: name 'x' is not defined\"  # Replace with your specific error message\n",
        "results = search_stackoverflow(error_message)\n",
        "\n",
        "# Print the search results\n",
        "for result in results:\n",
        "    print(f\"Question: {result['title']}\")\n",
        "    print(f\"Link: {result['link']}\\n\")\n"
      ],
      "metadata": {
        "colab": {
          "base_uri": "https://localhost:8080/"
        },
        "id": "kWNYTN4T5Mbv",
        "outputId": "b0125dc3-4796-485a-99d0-daf5aa991ba3"
      },
      "execution_count": 7,
      "outputs": [
        {
          "output_type": "stream",
          "name": "stdout",
          "text": [
            "Question: Django URL mapping - NameError: name X is not defined\n",
            "Link: https://stackoverflow.com/questions/40484963/django-url-mapping-nameerror-name-x-is-not-defined\n",
            "\n",
            "Question: NameError: name &#39;X&#39; is not defined sklearn\n",
            "Link: https://stackoverflow.com/questions/56738929/nameerror-name-x-is-not-defined-sklearn\n",
            "\n",
            "Question: When I ran this code in Python3 it gives this error: NameError: name &#39;x&#39; is not defined. How do I correct this?\n",
            "Link: https://stackoverflow.com/questions/62729755/when-i-ran-this-code-in-python3-it-gives-this-error-nameerror-name-x-is-not\n",
            "\n",
            "Question: NameError: name &#39;x&#39; is not defined Python\n",
            "Link: https://stackoverflow.com/questions/66923625/nameerror-name-x-is-not-defined-python\n",
            "\n",
            "Question: NameError: name &#39;x&#39; is not defined\n",
            "Link: https://stackoverflow.com/questions/32444944/nameerror-name-x-is-not-defined\n",
            "\n",
            "Question: NameError: name &#39;x&#39; is not defined in for loop\n",
            "Link: https://stackoverflow.com/questions/36551573/nameerror-name-x-is-not-defined-in-for-loop\n",
            "\n",
            "Question: Why is my program throwing NameError: name &#39;x&#39; is not defined for line norm(x)?\n",
            "Link: https://stackoverflow.com/questions/47214038/why-is-my-program-throwing-nameerror-name-x-is-not-defined-for-line-normx\n",
            "\n",
            "Question: NameError: name &#39;x&#39; is not defined (x declared in for loop)\n",
            "Link: https://stackoverflow.com/questions/48459963/nameerror-name-x-is-not-defined-x-declared-in-for-loop\n",
            "\n",
            "Question: python spark lambda function &quot;nameError: name &#39;x&#39; is not defined&quot;. What am I doing wrong?\n",
            "Link: https://stackoverflow.com/questions/60133966/python-spark-lambda-function-nameerror-name-x-is-not-defined-what-am-i-doi\n",
            "\n",
            "Question: All I get is &quot;NameError: name &#39;x&#39; is not defined&quot; error\n",
            "Link: https://stackoverflow.com/questions/32723961/all-i-get-is-nameerror-name-x-is-not-defined-error\n",
            "\n",
            "Question: Python class in function that use function params throw NameError: name &#39;x&#39; is not defined\n",
            "Link: https://stackoverflow.com/questions/50423806/python-class-in-function-that-use-function-params-throw-nameerror-name-x-is-n\n",
            "\n",
            "Question: NameError: name &#39;x&#39; is not defined(Python 3.7)\n",
            "Link: https://stackoverflow.com/questions/52261480/nameerror-name-x-is-not-definedpython-3-7\n",
            "\n",
            "Question: How to solve &quot;NameError: name &#39;x&#39; is not defined&quot; in pycharm\n",
            "Link: https://stackoverflow.com/questions/55500020/how-to-solve-nameerror-name-x-is-not-defined-in-pycharm\n",
            "\n",
            "Question: About logisticGD. NameError: name &#39;x&#39; is not defined\n",
            "Link: https://stackoverflow.com/questions/57813868/about-logisticgd-nameerror-name-x-is-not-defined\n",
            "\n",
            "Question: Python NameError: name &#39;X&#39; is not defined\n",
            "Link: https://stackoverflow.com/questions/60176813/python-nameerror-name-x-is-not-defined\n",
            "\n",
            "Question: Python script works fine independently, however, when called from an external script, I get NameError name &#39;x&#39; is not defined\n",
            "Link: https://stackoverflow.com/questions/60978050/python-script-works-fine-independently-however-when-called-from-an-external-sc\n",
            "\n",
            "Question: NameError: name &#39;x&#39; is not defined for a gradient descent function already defined. self.function() also not working\n",
            "Link: https://stackoverflow.com/questions/62378259/nameerror-name-x-is-not-defined-for-a-gradient-descent-function-already-defin\n",
            "\n",
            "Question: NameError: name &#39;x&#39; is not defined &amp; display results in GUI\n",
            "Link: https://stackoverflow.com/questions/62507215/nameerror-name-x-is-not-defined-display-results-in-gui\n",
            "\n",
            "Question: Django : NameError: name &#39;X&#39; is not defined\n",
            "Link: https://stackoverflow.com/questions/64076667/django-nameerror-name-x-is-not-defined\n",
            "\n",
            "Question: X = X.toarray() NameError: name &#39;X&#39; is not defined. when loading dataset using load_svmlight_file() trying to convert X to ndarray\n",
            "Link: https://stackoverflow.com/questions/64206406/x-x-toarray-nameerror-name-x-is-not-defined-when-loading-dataset-using-l\n",
            "\n",
            "Question: &quot;NameError name &#39;x&#39; is not defined&quot; Pycharm using Python 3.9\n",
            "Link: https://stackoverflow.com/questions/64979993/nameerror-name-x-is-not-defined-pycharm-using-python-3-9\n",
            "\n",
            "Question: NameError: name &#39;x&#39; is not defined when running Pipline\n",
            "Link: https://stackoverflow.com/questions/70371704/nameerror-name-x-is-not-defined-when-running-pipline\n",
            "\n",
            "Question: Print variable from external file. NameError: name &#39;x&#39; is not defined\n",
            "Link: https://stackoverflow.com/questions/73324526/print-variable-from-external-file-nameerror-name-x-is-not-defined\n",
            "\n",
            "Question: Random Search hyperparameter tuning shows &#39;NameError: name &#39;x&#39; is not defined&#39;\n",
            "Link: https://stackoverflow.com/questions/74735261/random-search-hyperparameter-tuning-shows-nameerror-name-x-is-not-defined\n",
            "\n",
            "Question: NameError: &quot;name &#39;x&#39; is not defined&quot;\n",
            "Link: https://stackoverflow.com/questions/28307913/nameerror-name-x-is-not-defined\n",
            "\n",
            "Question: Python NameError: &quot;name &#39;x&#39; is not defined&quot; when used inside for loop\n",
            "Link: https://stackoverflow.com/questions/55876922/python-nameerror-name-x-is-not-defined-when-used-inside-for-loop\n",
            "\n",
            "Question: Command raised an exception: NameError: name &#39;x&#39; is not defined\n",
            "Link: https://stackoverflow.com/questions/65269032/command-raised-an-exception-nameerror-name-x-is-not-defined\n",
            "\n",
            "Question: NameError: name X is not defined\n",
            "Link: https://stackoverflow.com/questions/73909266/nameerror-name-x-is-not-defined\n",
            "\n",
            "Question: Code giving NameError: name &#39;x&#39; is not defined\n",
            "Link: https://stackoverflow.com/questions/74656877/code-giving-nameerror-name-x-is-not-defined\n",
            "\n",
            "Question: Python 3.6 NameError: name &#39;x&#39; is not defined\n",
            "Link: https://stackoverflow.com/questions/44149843/python-3-6-nameerror-name-x-is-not-defined\n",
            "\n",
            "Question: NameError: name &#39;X&#39; is not defined but it is\n",
            "Link: https://stackoverflow.com/questions/73736270/nameerror-name-x-is-not-defined-but-it-is\n",
            "\n",
            "Question: How do I overcome a &quot;NameError: name &#39;x&#39; is not defined&quot; when I am trying to break a while loop when asking for input?\n",
            "Link: https://stackoverflow.com/questions/55467826/how-do-i-overcome-a-nameerror-name-x-is-not-defined-when-i-am-trying-to-bre\n",
            "\n",
            "Question: How to solve the Python error &quot;NameError: name &#39;X&#39; is not defined&quot;\n",
            "Link: https://stackoverflow.com/questions/65641396/how-to-solve-the-python-error-nameerror-name-x-is-not-defined\n",
            "\n",
            "Question: Python 3.4.2 | NameError: name &#39;x&#39; is not defined\n",
            "Link: https://stackoverflow.com/questions/26861371/python-3-4-2-nameerror-name-x-is-not-defined\n",
            "\n"
          ]
        }
      ]
    }
  ]
}