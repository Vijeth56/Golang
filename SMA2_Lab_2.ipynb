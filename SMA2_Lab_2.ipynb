{
  "nbformat": 4,
  "nbformat_minor": 0,
  "metadata": {
    "colab": {
      "provenance": []
    },
    "kernelspec": {
      "name": "python3",
      "display_name": "Python 3"
    },
    "language_info": {
      "name": "python"
    }
  },
  "cells": [
    {
      "cell_type": "code",
      "execution_count": null,
      "metadata": {
        "colab": {
          "base_uri": "https://localhost:8080/"
        },
        "id": "xcmok0NEzZEO",
        "outputId": "2d175ad2-c3ac-464d-f3ac-29755bdd1968"
      },
      "outputs": [
        {
          "output_type": "stream",
          "name": "stdout",
          "text": [
            "Jaccard coefficient between A and B: 0.25\n"
          ]
        }
      ],
      "source": [
        "def jaccard_coefficient(graph, node1, node2):\n",
        "    neighbors1 = set(graph[node1])\n",
        "    neighbors2 = set(graph[node2])\n",
        "    intersection = neighbors1.intersection(neighbors2)\n",
        "    union = neighbors1.union(neighbors2)\n",
        "    \n",
        "    if len(union) == 0:\n",
        "        return 0\n",
        "    \n",
        "    return len(intersection) / len(union)\n",
        "\n",
        "def link_prediction(graph, node1, node2):\n",
        "    return jaccard_coefficient(graph, node1, node2)\n",
        "\n",
        "# Example usage:\n",
        "# Create an example graph\n",
        "graph = {\n",
        "    'A': ['B', 'C', 'D'],\n",
        "    'B': ['A', 'C'],\n",
        "    'C': ['A', 'B', 'D'],\n",
        "    'D': ['A', 'C']\n",
        "}\n",
        "\n",
        "# Predict link between nodes 'A' and 'B'\n",
        "prediction = link_prediction(graph, 'A', 'B')\n",
        "\n",
        "# Print the Jaccard coefficient\n",
        "print(f\"Jaccard coefficient between A and B: {prediction}\")\n"
      ]
    }
  ]
}