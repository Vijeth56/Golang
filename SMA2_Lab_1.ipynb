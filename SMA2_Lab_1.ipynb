{
 "cells": [
  {
   "cell_type": "code",
   "execution_count": null,
   "metadata": {
    "colab": {
     "base_uri": "https://localhost:8080/"
    },
    "id": "rgSTFbSJyslu",
    "outputId": "d4cb65d4-0b46-4681-abc3-3423257cf41f"
   },
   "outputs": [
    {
     "name": "stdout",
     "output_type": "stream",
     "text": [
      "Page 1: 2.705169277773135e+16\n",
      "Page 2: 2.1146041537522404e+16\n",
      "Page 3: 2.1146041537522404e+16\n",
      "Page 4: 1.3525846388865676e+16\n"
     ]
    }
   ],
   "source": [
    "import numpy as np\n",
    "\n",
    "def page_rank(adj_matrix, damping_factor=0.85, max_iterations=100, convergence_threshold=0.0001):\n",
    "    num_pages = adj_matrix.shape[0]\n",
    "    page_rank = np.ones(num_pages) / num_pages\n",
    "    teleportation = np.ones(num_pages) / num_pages\n",
    "\n",
    "    for _ in range(max_iterations):\n",
    "        new_page_rank = (1 - damping_factor) * teleportation + damping_factor * adj_matrix.T.dot(page_rank)\n",
    "        \n",
    "        if np.linalg.norm(new_page_rank - page_rank) < convergence_threshold:\n",
    "            break\n",
    "\n",
    "        page_rank = new_page_rank\n",
    "\n",
    "    return page_rank\n",
    "\n",
    "# Example usage:\n",
    "# Create an adjacency matrix representing the link structure of web pages\n",
    "adj_matrix = np.array([\n",
    "    [0, 1, 1, 0],\n",
    "    [1, 0, 0, 1],\n",
    "    [1, 0, 0, 0],\n",
    "    [0, 1, 1, 0]\n",
    "])\n",
    "\n",
    "# Compute the PageRank scores\n",
    "scores = page_rank(adj_matrix)\n",
    "\n",
    "# Print the PageRank scores\n",
    "for i, score in enumerate(scores):\n",
    "    print(f\"Page {i+1}: {score}\")\n"
   ]
  }
 ],
 "metadata": {
  "colab": {
   "provenance": []
  },
  "kernelspec": {
   "display_name": "Python 3 (ipykernel)",
   "language": "python",
   "name": "python3"
  },
  "language_info": {
   "codemirror_mode": {
    "name": "ipython",
    "version": 3
   },
   "file_extension": ".py",
   "mimetype": "text/x-python",
   "name": "python",
   "nbconvert_exporter": "python",
   "pygments_lexer": "ipython3",
   "version": "3.10.9"
  }
 },
 "nbformat": 4,
 "nbformat_minor": 1
}
